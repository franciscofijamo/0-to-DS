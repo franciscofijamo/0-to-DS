{
  "nbformat": 4,
  "nbformat_minor": 0,
  "metadata": {
    "colab": {
      "provenance": [],
      "authorship_tag": "ABX9TyOAGhRC7P7a0INMA09jy4CH",
      "include_colab_link": true
    },
    "kernelspec": {
      "name": "python3",
      "display_name": "Python 3"
    },
    "language_info": {
      "name": "python"
    }
  },
  "cells": [
    {
      "cell_type": "markdown",
      "metadata": {
        "id": "view-in-github",
        "colab_type": "text"
      },
      "source": [
        "<a href=\"https://colab.research.google.com/github/franciscofijamo/0-to-DS/blob/master/FTC_cicle_04_DE(Exercices)_ipynb.ipynb\" target=\"_parent\"><img src=\"https://colab.research.google.com/assets/colab-badge.svg\" alt=\"Open In Colab\"/></a>"
      ]
    },
    {
      "cell_type": "code",
      "execution_count": 11,
      "metadata": {
        "id": "hApg7RwTTtra"
      },
      "outputs": [],
      "source": [
        "#sum 10 in a lists\n",
        "\n",
        "numbers = [10, 11, 423, 2034, 134, 11, 3, 23, 34, 758, 9, 10, 14, 2, 412,34, 123,\n",
        "4132, 4, 12, 3412, 34, 12, 34132, 41, 234, 1, 23,4, 12, 3, 41, 2, 4123]\n",
        "\n",
        "results_10 = []\n",
        "\n",
        "for i in numbers:\n",
        "  result = i+10\n",
        "  # result = 10 + numbers[i]\n",
        "  results_10.append(result)\n",
        "\n"
      ]
    },
    {
      "cell_type": "code",
      "source": [
        "print(results_10)"
      ],
      "metadata": {
        "colab": {
          "base_uri": "https://localhost:8080/"
        },
        "id": "J76BdetsUMCf",
        "outputId": "284e6f04-0f00-4a39-a3e2-384d3617fbc0"
      },
      "execution_count": 12,
      "outputs": [
        {
          "output_type": "stream",
          "name": "stdout",
          "text": [
            "[20, 21, 433, 2044, 144, 21, 13, 33, 44, 768, 19, 20, 24, 12, 422, 44, 133, 4142, 14, 22, 3422, 44, 22, 34142, 51, 244, 11, 33, 14, 22, 13, 51, 12, 4133]\n"
          ]
        }
      ]
    },
    {
      "cell_type": "code",
      "source": [
        "condition_result = []\n",
        "sum_number = []\n",
        "multi_number = []\n",
        "sub_number = []\n",
        "div_number = []\n",
        "\n",
        "for i in numbers:\n",
        "  if (i<=10):\n",
        "    result = i+10\n",
        "    sum_number.append(result)\n",
        "  elif i<=50:\n",
        "    result = i*20\n",
        "    multi_number.append(result)\n",
        "  elif i <= 100:\n",
        "    result = i-30\n",
        "    sub_number.append(result)\n",
        "  else:\n",
        "    result = i/2\n",
        "    div_number.append(result)\n",
        "\n",
        "print(sum_number,multi_number,sub_number,div_number)"
      ],
      "metadata": {
        "colab": {
          "base_uri": "https://localhost:8080/"
        },
        "id": "ie9YIZOvVgWb",
        "outputId": "abf637fe-029c-4ddb-c75a-82fe5e335a4b"
      },
      "execution_count": 18,
      "outputs": [
        {
          "output_type": "stream",
          "name": "stdout",
          "text": [
            "[20, 13, 19, 20, 12, 14, 11, 14, 13, 12] [220, 220, 460, 680, 280, 680, 240, 680, 240, 820, 460, 240, 820] [] [211.5, 1017.0, 67.0, 379.0, 206.0, 61.5, 2066.0, 1706.0, 17066.0, 117.0, 2061.5]\n"
          ]
        }
      ]
    },
    {
      "cell_type": "code",
      "source": [
        "for i in range(1,53):\n",
        "  print(\"esta mensagem foi removida\", i)"
      ],
      "metadata": {
        "colab": {
          "base_uri": "https://localhost:8080/"
        },
        "id": "7NbK0NHvXiGi",
        "outputId": "877c668a-3d24-425a-c9fc-d4b1f933cefa"
      },
      "execution_count": 21,
      "outputs": [
        {
          "output_type": "stream",
          "name": "stdout",
          "text": [
            "esta mensagem foi removida 1\n",
            "esta mensagem foi removida 2\n",
            "esta mensagem foi removida 3\n",
            "esta mensagem foi removida 4\n",
            "esta mensagem foi removida 5\n",
            "esta mensagem foi removida 6\n",
            "esta mensagem foi removida 7\n",
            "esta mensagem foi removida 8\n",
            "esta mensagem foi removida 9\n",
            "esta mensagem foi removida 10\n",
            "esta mensagem foi removida 11\n",
            "esta mensagem foi removida 12\n",
            "esta mensagem foi removida 13\n",
            "esta mensagem foi removida 14\n",
            "esta mensagem foi removida 15\n",
            "esta mensagem foi removida 16\n",
            "esta mensagem foi removida 17\n",
            "esta mensagem foi removida 18\n",
            "esta mensagem foi removida 19\n",
            "esta mensagem foi removida 20\n",
            "esta mensagem foi removida 21\n",
            "esta mensagem foi removida 22\n",
            "esta mensagem foi removida 23\n",
            "esta mensagem foi removida 24\n",
            "esta mensagem foi removida 25\n",
            "esta mensagem foi removida 26\n",
            "esta mensagem foi removida 27\n",
            "esta mensagem foi removida 28\n",
            "esta mensagem foi removida 29\n",
            "esta mensagem foi removida 30\n",
            "esta mensagem foi removida 31\n",
            "esta mensagem foi removida 32\n",
            "esta mensagem foi removida 33\n",
            "esta mensagem foi removida 34\n",
            "esta mensagem foi removida 35\n",
            "esta mensagem foi removida 36\n",
            "esta mensagem foi removida 37\n",
            "esta mensagem foi removida 38\n",
            "esta mensagem foi removida 39\n",
            "esta mensagem foi removida 40\n",
            "esta mensagem foi removida 41\n",
            "esta mensagem foi removida 42\n",
            "esta mensagem foi removida 43\n",
            "esta mensagem foi removida 44\n",
            "esta mensagem foi removida 45\n",
            "esta mensagem foi removida 46\n",
            "esta mensagem foi removida 47\n",
            "esta mensagem foi removida 48\n",
            "esta mensagem foi removida 49\n",
            "esta mensagem foi removida 50\n",
            "esta mensagem foi removida 51\n",
            "esta mensagem foi removida 52\n"
          ]
        }
      ]
    },
    {
      "cell_type": "code",
      "source": [],
      "metadata": {
        "id": "VZLh2b0rfIvR"
      },
      "execution_count": null,
      "outputs": []
    }
  ]
}