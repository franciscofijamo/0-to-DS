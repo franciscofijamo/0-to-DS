{
  "nbformat": 4,
  "nbformat_minor": 0,
  "metadata": {
    "colab": {
      "provenance": [],
      "authorship_tag": "ABX9TyMlZEsrd3ZkPhWCVG0oDTVk",
      "include_colab_link": true
    },
    "kernelspec": {
      "name": "python3",
      "display_name": "Python 3"
    },
    "language_info": {
      "name": "python"
    }
  },
  "cells": [
    {
      "cell_type": "markdown",
      "metadata": {
        "id": "view-in-github",
        "colab_type": "text"
      },
      "source": [
        "<a href=\"https://colab.research.google.com/github/franciscofijamo/0-to-DS/blob/master/FTC_cicle_02(Exercices).ipynb\" target=\"_parent\"><img src=\"https://colab.research.google.com/assets/colab-badge.svg\" alt=\"Open In Colab\"/></a>"
      ]
    },
    {
      "cell_type": "code",
      "execution_count": 16,
      "metadata": {
        "id": "eUS_YA6_qTEY",
        "colab": {
          "base_uri": "https://localhost:8080/"
        },
        "outputId": "d4ae0fc0-4fc7-4382-f3d1-7eb161b477ae"
      },
      "outputs": [
        {
          "output_type": "stream",
          "name": "stdout",
          "text": [
            "input First value 50\n",
            "input Second value 14\n",
            "input Third value 10\n",
            "highest value 50\n",
            "lower value 10\n"
          ]
        }
      ],
      "source": [
        "# maior valor e menor valor\n",
        "\n",
        "valor1 = int(input(\"input First value \"))\n",
        "valor2 = int(input(\"input Second value \"))\n",
        "valor3 = int(input(\"input Third value \"))\n",
        "\n",
        "maior = valor1\n",
        "menor = valor1\n",
        "\n",
        "if maior < valor2:\n",
        "   maior = valor2\n",
        "if maior < valor3:\n",
        "    maior = valor3\n",
        "\n",
        "\n",
        "if menor > valor2:\n",
        "    menor=valor2\n",
        "if menor > valor3:\n",
        "    menor=valor3\n",
        "\n",
        "\n",
        "print(\"highest value\", maior)\n",
        "print(\"lower value\", menor)\n",
        "\n"
      ]
    },
    {
      "cell_type": "code",
      "source": [
        "# harmonic mean\n",
        "\n",
        "# valor1 = int(input(\"input First value \"))\n",
        "# valor2 = int(input(\"input Second value \"))\n",
        "# valor3 = int(input(\"input Third value \"))\n",
        "# valor4 = int(input(\"input Third value \"))\n",
        "# valor5 = int(input(\"input Third value \"))\n",
        "valor1 =13\n",
        "valor2 =10\n",
        "valor3 =11\n",
        "valor4 =1\n",
        "valor5 =5\n",
        "\n",
        "num = 5\n",
        "deno = (1/valor1)+(1/valor2)+(1/valor3)+(1/valor4)+(1/valor5)\n",
        "harmonic_mean = num/deno\n",
        "\n",
        "print(\"the result of harmonic mean is: \", harmonic_mean)\n",
        "\n"
      ],
      "metadata": {
        "colab": {
          "base_uri": "https://localhost:8080/"
        },
        "id": "MvdzIX6uxrnr",
        "outputId": "71cf1c62-6091-4295-b24f-cb312b2393d8"
      },
      "execution_count": 22,
      "outputs": [
        {
          "output_type": "stream",
          "name": "stdout",
          "text": [
            "the result of harmonic mean is:  3.406383992377323\n"
          ]
        }
      ]
    },
    {
      "cell_type": "code",
      "source": [
        "# using statistics\n",
        "from statistics import harmonic_mean\n",
        "\n",
        "values = [13,10,11,1,5]\n",
        "\n",
        "harmonic_mean(values)"
      ],
      "metadata": {
        "colab": {
          "base_uri": "https://localhost:8080/"
        },
        "id": "Qlk2RjwO2ShL",
        "outputId": "287c0928-314e-4198-ccdc-9d0375946ad2"
      },
      "execution_count": 26,
      "outputs": [
        {
          "output_type": "execute_result",
          "data": {
            "text/plain": [
              "3.4063839923773225"
            ]
          },
          "metadata": {},
          "execution_count": 26
        }
      ]
    },
    {
      "cell_type": "code",
      "source": [],
      "metadata": {
        "id": "oD-6fj3b28fP"
      },
      "execution_count": null,
      "outputs": []
    }
  ]
}