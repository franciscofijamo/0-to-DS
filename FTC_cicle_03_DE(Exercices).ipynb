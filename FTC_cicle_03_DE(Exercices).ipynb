{
  "nbformat": 4,
  "nbformat_minor": 0,
  "metadata": {
    "colab": {
      "provenance": [],
      "authorship_tag": "ABX9TyN+g8FXGriKvgeUTUBCDMqH",
      "include_colab_link": true
    },
    "kernelspec": {
      "name": "python3",
      "display_name": "Python 3"
    },
    "language_info": {
      "name": "python"
    }
  },
  "cells": [
    {
      "cell_type": "markdown",
      "metadata": {
        "id": "view-in-github",
        "colab_type": "text"
      },
      "source": [
        "<a href=\"https://colab.research.google.com/github/franciscofijamo/0-to-DS/blob/master/FTC_cicle_03_DE(Exercices).ipynb\" target=\"_parent\"><img src=\"https://colab.research.google.com/assets/colab-badge.svg\" alt=\"Open In Colab\"/></a>"
      ]
    },
    {
      "cell_type": "markdown",
      "source": [
        "### Problema de negócio\n",
        "\n",
        "O restaurante Big Boca precisa planejar os descontos dos hamburgers durante semana da Black Friday.\n",
        "\n",
        "Geralmente, os descontos são **progressivos**, c**omeçando de 10% no primeiro**\n",
        "dia, **até 70% de desconto base**, no último dia. \n",
        "\n",
        "**A progressão do desconto,\n",
        "depende do número de pedidos previstos diariamente.**\n",
        "\n",
        "O time de Marketing definiu a regra de negócio dos descontos: \n",
        "\n",
        "**No dia 1, o desconto é de 10% em qualquer hamburger, se tiverem até 1000 pedidos.** \n",
        "\n",
        "A cada pedido a mais, a partir do 1000, o desconto aumenta em 1%. Por exemplo,\n",
        "se no dia 1 a previsão for de 500 pedidos, o desconto será de 10%, caso a\n",
        "previsão seja de 1100 pedidos, o desconto será de 11%\n",
        "No dia 2, o desconto é de 20% se estiverem presentes até 2000 pedidos\n",
        "esperados e a cada pedidos a mais, o desconto aumenta em 1%.\n",
        "Essa lógica de aumento progressivo se mantém a mesma até o dia 7, o último\n",
        "dia da Black Friday.\n",
        "A previsão diária de pedidos foi feita pelo time de Cientistas de Dados está\n",
        "abaixo."
      ],
      "metadata": {
        "id": "wzHJSr9GgxZV"
      }
    },
    {
      "cell_type": "code",
      "execution_count": null,
      "metadata": {
        "colab": {
          "base_uri": "https://localhost:8080/"
        },
        "id": "JY71wfm4goJG",
        "outputId": "d08ff165-46c1-42e5-d47b-590498758992"
      },
      "outputs": [
        {
          "output_type": "stream",
          "name": "stdout",
          "text": [
            " the daily discount is:\n",
            "0.11\n"
          ]
        }
      ],
      "source": [
        "# using FOR Loop\n",
        "discount_daily = 0.11\n",
        "print(\"Tthe daily discount is:\")\n",
        "print(discount_daily)"
      ]
    },
    {
      "cell_type": "code",
      "source": [
        "prediction_base = [1000,2000,3000,4000,5000,6000,7000]\n",
        "prediction_order = [400,100,3600,4100,4900,7600,9500]\n",
        "base_discount = [0.1,2.0,3.0,4.0,0.5,0.6,0.7]\n",
        "dayOf_week = [1,2,3,4,5,6,7]\n",
        "discount_daily = []\n",
        "\n",
        "\n",
        "for day in dayOf_week:\n",
        "  if prediction_order[day-1] > prediction_base[day-1]:\n",
        "    final_discount = base_discount[day-1] + ( ( prediction_order[day-1] - prediction_base[day-1] ) /100 ) /100\n",
        "    discount_daily.append( final_discount )\n",
        "  else:\n",
        "    final_discount = base_discount[day-1]\n",
        "    discount_daily.append(final_discount)\n",
        "\n",
        "print(\"Tthe daily discount is:\")\n",
        "print(discount_daily)\n"
      ],
      "metadata": {
        "colab": {
          "base_uri": "https://localhost:8080/"
        },
        "id": "nUgRIkdyh3wg",
        "outputId": "79c9c5c5-4673-44df-f4f9-f0b0ce739f98"
      },
      "execution_count": null,
      "outputs": [
        {
          "output_type": "stream",
          "name": "stdout",
          "text": [
            "Tthe daily discount is:\n",
            "[0.1, 2.0, 3.06, 4.01, 0.5, 0.76, 0.95]\n"
          ]
        }
      ]
    },
    {
      "cell_type": "code",
      "source": [
        "prediction_base = [1000,2000,3000,4000,5000,6000,7000]\n",
        "predicted_orders = [400, 100, 3650, 4010, 4900, 7650, 9500]\n",
        "base_discount = [10, 20, 30, 40, 50, 60, 70]\n",
        "\n",
        "discount_daily = []\n",
        "\n",
        "for i in range(7):\n",
        "    discount = base_discount[i] + (predicted_orders[i] - prediction_base[i]) / 100\n",
        "    discount_daily.append(discount)\n",
        "\n",
        "print(\"The daily discount for each day of the week is:\")\n",
        "for i, day in enumerate([\"Monday\", \"Tuesday\", \"Wednesday\", \"Thursday\", \"Friday\", \"Saturday\", \"Sunday\"]):\n",
        "    print(f\"{day}: {discount_daily[i]}%\")prediction_order = [400,100,3600,4100,4900,7600,9500]\n",
        "base_discount = [0.1,2.0,3.0,4.0,0.5,0.6,0.7]\n",
        "dayOf_week = [\"Monday\",\"Tuesday\",\"Wednesday\",\"Thursday\",\"Friday\",\"Saturday\",\"Sunday\"]\n",
        "\n",
        "discount_daily = [base_discount[day-1] + ( ( prediction_order[day-1] - prediction_base[day-1] ) /100 ) /100 if prediction_order[day-1] > prediction_base[day-1] else base_discount[day-1] for day in range(1,8)]\n",
        "\n",
        "print(\"The daily discount for each days is:\")\n",
        "for i,day in enumerate(dayOf_week):\n",
        "  print(f\"{day} : {discount_daily[i]}\")"
      ],
      "metadata": {
        "colab": {
          "base_uri": "https://localhost:8080/"
        },
        "id": "ufI1ZFsBknH2",
        "outputId": "e6f581d9-7b08-425f-8ca1-888055893ded"
      },
      "execution_count": null,
      "outputs": [
        {
          "output_type": "stream",
          "name": "stdout",
          "text": [
            "The daily discount for each days is:\n",
            "Monday : 0.1\n",
            "Tuesday : 2.0\n",
            "Wednesday : 3.06\n",
            "Thursday : 4.01\n",
            "Friday : 0.5\n",
            "Saturday : 0.76\n",
            "Sunday : 0.95\n"
          ]
        }
      ]
    },
    {
      "cell_type": "code",
      "source": [
        "predicted_orders = [400, 100, 3600, 4100, 4900, 7650, 9500]\n",
        "base_discount = [10, 20, 30, 40, 50, 60, 70]\n",
        "\n",
        "discount_daily = []\n",
        "\n",
        "for i in range(7):\n",
        "  # calculate the discount by adding the base discount and the number of orders above the threshold\n",
        "  # divided by 10, to get the percentage\n",
        "  discount = base_discount[i] + (predicted_orders[i] - (1000 * (i + 1))) / 10\n",
        "  # append the discount to the list\n",
        "  discount_daily.append(discount)\n",
        "\n",
        "print(\"The daily discount for each day of the week is:\")\n",
        "for i, day in enumerate([\"Monday\", \"Tuesday\", \"Wednesday\", \"Thursday\", \"Friday\", \"Saturday\", \"Sunday\"]):\n",
        "  print(f\"{day}: {discount_daily[i]}%\")"
      ],
      "metadata": {
        "colab": {
          "base_uri": "https://localhost:8080/"
        },
        "id": "NH9_f-ylqnIX",
        "outputId": "ae6f7b55-ab52-4416-ec6c-d62df57612ec"
      },
      "execution_count": null,
      "outputs": [
        {
          "output_type": "stream",
          "name": "stdout",
          "text": [
            "The daily discount for each day of the week is:\n",
            "Monday: -50.0%\n",
            "Tuesday: -170.0%\n",
            "Wednesday: 90.0%\n",
            "Thursday: 50.0%\n",
            "Friday: 40.0%\n",
            "Saturday: 225.0%\n",
            "Sunday: 320.0%\n"
          ]
        }
      ]
    },
    {
      "cell_type": "code",
      "source": [
        "prediction_base = [1000,2000,3000,4000,5000,6000,7000]\n",
        "predicted_orders = [400, 100, 3600, 4100, 4900, 7600, 9500]\n",
        "base_discount = [10, 20, 30, 40, 50, 60, 70]\n",
        "\n",
        "\n",
        "# prediction_base = [1000,2000,3000,4000,5000,6000,7000]\n",
        "# prediction_order = [400,100,3600,4100,4900,7600,9500]\n",
        "\n",
        "discount_daily = []\n",
        "\n",
        "for i in range(7):\n",
        "    discount = base_discount[i] + (predicted_orders[i] - prediction_base[i]) / 100\n",
        "    discount_daily.append(discount)\n",
        "\n",
        "print(\"The daily discount for each day of the week is:\")\n",
        "for i, day in enumerate([\"Monday\", \"Tuesday\", \"Wednesday\", \"Thursday\", \"Friday\", \"Saturday\", \"Sunday\"]):\n",
        "    print(f\"{day}: {discount_daily[i]}%\")"
      ],
      "metadata": {
        "colab": {
          "base_uri": "https://localhost:8080/"
        },
        "id": "9Um20O2BrPxR",
        "outputId": "7d188a9a-81dc-4a74-8517-e43e6cf78ecc"
      },
      "execution_count": null,
      "outputs": [
        {
          "output_type": "stream",
          "name": "stdout",
          "text": [
            "The daily discount for each day of the week is:\n",
            "Monday: 4.0%\n",
            "Tuesday: 1.0%\n",
            "Wednesday: 36.0%\n",
            "Thursday: 41.0%\n",
            "Friday: 49.0%\n",
            "Saturday: 76.0%\n",
            "Sunday: 95.0%\n"
          ]
        }
      ]
    },
    {
      "cell_type": "code",
      "source": [],
      "metadata": {
        "id": "xweUF9M4rlIv"
      },
      "execution_count": null,
      "outputs": []
    }
  ]
}